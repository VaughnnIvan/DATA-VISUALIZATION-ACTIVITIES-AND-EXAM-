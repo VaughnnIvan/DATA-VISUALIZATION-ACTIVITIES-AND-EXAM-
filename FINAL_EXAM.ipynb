{
  "cells": [
    {
      "cell_type": "markdown",
      "metadata": {
        "id": "view-in-github",
        "colab_type": "text"
      },
      "source": [
        "<a href=\"https://colab.research.google.com/github/VaughnnIvan/DATA-VISUALIZATION-ACTIVITIES-AND-EXAM-/blob/main/FINAL_EXAM.ipynb\" target=\"_parent\"><img src=\"https://colab.research.google.com/assets/colab-badge.svg\" alt=\"Open In Colab\"/></a>"
      ]
    },
    {
      "cell_type": "code",
      "execution_count": null,
      "id": "2db39bc5",
      "metadata": {
        "id": "2db39bc5"
      },
      "outputs": [],
      "source": [
        "import pandas as pd"
      ]
    },
    {
      "cell_type": "code",
      "execution_count": null,
      "id": "6cf05b78",
      "metadata": {
        "id": "6cf05b78"
      },
      "outputs": [],
      "source": [
        "df = pd.read_csv('titanic.csv')"
      ]
    },
    {
      "cell_type": "code",
      "execution_count": null,
      "id": "febb45d4",
      "metadata": {
        "id": "febb45d4",
        "outputId": "325e4a64-4f64-4789-cca2-c43b195f7d41"
      },
      "outputs": [
        {
          "data": {
            "text/html": [
              "<div>\n",
              "<style scoped>\n",
              "    .dataframe tbody tr th:only-of-type {\n",
              "        vertical-align: middle;\n",
              "    }\n",
              "\n",
              "    .dataframe tbody tr th {\n",
              "        vertical-align: top;\n",
              "    }\n",
              "\n",
              "    .dataframe thead th {\n",
              "        text-align: right;\n",
              "    }\n",
              "</style>\n",
              "<table border=\"1\" class=\"dataframe\">\n",
              "  <thead>\n",
              "    <tr style=\"text-align: right;\">\n",
              "      <th></th>\n",
              "      <th>PassengerId</th>\n",
              "      <th>Survived</th>\n",
              "      <th>Pclass</th>\n",
              "      <th>Name</th>\n",
              "      <th>Sex</th>\n",
              "      <th>Age</th>\n",
              "      <th>SibSp</th>\n",
              "      <th>Parch</th>\n",
              "      <th>Ticket</th>\n",
              "      <th>Fare</th>\n",
              "      <th>Cabin</th>\n",
              "      <th>Embarked</th>\n",
              "    </tr>\n",
              "  </thead>\n",
              "  <tbody>\n",
              "    <tr>\n",
              "      <th>0</th>\n",
              "      <td>1</td>\n",
              "      <td>0</td>\n",
              "      <td>3</td>\n",
              "      <td>Braund, Mr. Owen Harris</td>\n",
              "      <td>male</td>\n",
              "      <td>22.0</td>\n",
              "      <td>1</td>\n",
              "      <td>0</td>\n",
              "      <td>A/5 21171</td>\n",
              "      <td>7.2500</td>\n",
              "      <td>NaN</td>\n",
              "      <td>S</td>\n",
              "    </tr>\n",
              "    <tr>\n",
              "      <th>1</th>\n",
              "      <td>2</td>\n",
              "      <td>1</td>\n",
              "      <td>1</td>\n",
              "      <td>Cumings, Mrs. John Bradley (Florence Briggs Th...</td>\n",
              "      <td>female</td>\n",
              "      <td>38.0</td>\n",
              "      <td>1</td>\n",
              "      <td>0</td>\n",
              "      <td>PC 17599</td>\n",
              "      <td>71.2833</td>\n",
              "      <td>C85</td>\n",
              "      <td>C</td>\n",
              "    </tr>\n",
              "    <tr>\n",
              "      <th>2</th>\n",
              "      <td>3</td>\n",
              "      <td>1</td>\n",
              "      <td>3</td>\n",
              "      <td>Heikkinen, Miss. Laina</td>\n",
              "      <td>female</td>\n",
              "      <td>26.0</td>\n",
              "      <td>0</td>\n",
              "      <td>0</td>\n",
              "      <td>STON/O2. 3101282</td>\n",
              "      <td>7.9250</td>\n",
              "      <td>NaN</td>\n",
              "      <td>S</td>\n",
              "    </tr>\n",
              "    <tr>\n",
              "      <th>3</th>\n",
              "      <td>4</td>\n",
              "      <td>1</td>\n",
              "      <td>1</td>\n",
              "      <td>Futrelle, Mrs. Jacques Heath (Lily May Peel)</td>\n",
              "      <td>female</td>\n",
              "      <td>35.0</td>\n",
              "      <td>1</td>\n",
              "      <td>0</td>\n",
              "      <td>113803</td>\n",
              "      <td>53.1000</td>\n",
              "      <td>C123</td>\n",
              "      <td>S</td>\n",
              "    </tr>\n",
              "    <tr>\n",
              "      <th>4</th>\n",
              "      <td>5</td>\n",
              "      <td>0</td>\n",
              "      <td>3</td>\n",
              "      <td>Allen, Mr. William Henry</td>\n",
              "      <td>male</td>\n",
              "      <td>35.0</td>\n",
              "      <td>0</td>\n",
              "      <td>0</td>\n",
              "      <td>373450</td>\n",
              "      <td>8.0500</td>\n",
              "      <td>NaN</td>\n",
              "      <td>S</td>\n",
              "    </tr>\n",
              "  </tbody>\n",
              "</table>\n",
              "</div>"
            ],
            "text/plain": [
              "   PassengerId  Survived  Pclass  \\\n",
              "0            1         0       3   \n",
              "1            2         1       1   \n",
              "2            3         1       3   \n",
              "3            4         1       1   \n",
              "4            5         0       3   \n",
              "\n",
              "                                                Name     Sex   Age  SibSp  \\\n",
              "0                            Braund, Mr. Owen Harris    male  22.0      1   \n",
              "1  Cumings, Mrs. John Bradley (Florence Briggs Th...  female  38.0      1   \n",
              "2                             Heikkinen, Miss. Laina  female  26.0      0   \n",
              "3       Futrelle, Mrs. Jacques Heath (Lily May Peel)  female  35.0      1   \n",
              "4                           Allen, Mr. William Henry    male  35.0      0   \n",
              "\n",
              "   Parch            Ticket     Fare Cabin Embarked  \n",
              "0      0         A/5 21171   7.2500   NaN        S  \n",
              "1      0          PC 17599  71.2833   C85        C  \n",
              "2      0  STON/O2. 3101282   7.9250   NaN        S  \n",
              "3      0            113803  53.1000  C123        S  \n",
              "4      0            373450   8.0500   NaN        S  "
            ]
          },
          "execution_count": 3,
          "metadata": {},
          "output_type": "execute_result"
        }
      ],
      "source": [
        "df.head()"
      ]
    },
    {
      "cell_type": "code",
      "execution_count": null,
      "id": "43e71fcc",
      "metadata": {
        "id": "43e71fcc",
        "outputId": "6f21e081-8148-4054-cba0-a1b22b6aebd8"
      },
      "outputs": [
        {
          "name": "stdout",
          "output_type": "stream",
          "text": [
            "2. Percentage of people who survived: 38.38383838383838%\n"
          ]
        }
      ],
      "source": [
        "survived = df['Survived'].mean() * 100\n",
        "print(f\"2. Percentage of people who survived: {survived}%\")"
      ]
    },
    {
      "cell_type": "code",
      "execution_count": null,
      "id": "0f24df33",
      "metadata": {
        "id": "0f24df33",
        "outputId": "47bb9207-8864-42cb-927f-a7d26939ff84"
      },
      "outputs": [
        {
          "name": "stdout",
          "output_type": "stream",
          "text": [
            "3. Number of survivors by sex:\n",
            "female    233\n",
            "male      109\n",
            "Name: Sex, dtype: int64\n"
          ]
        }
      ],
      "source": [
        "survibysex = df[df['Survived']==1]['Sex'].value_counts()\n",
        "print(\"3. Number of survivors by sex:\")\n",
        "print(survibysex)"
      ]
    },
    {
      "cell_type": "code",
      "execution_count": null,
      "id": "5f5f13f1",
      "metadata": {
        "id": "5f5f13f1",
        "outputId": "9cced343-6350-4957-83fe-bcb85fa8e7ef"
      },
      "outputs": [
        {
          "name": "stdout",
          "output_type": "stream",
          "text": [
            "4. Percentage of passengers who paid less than 10 dollars and survived: 19.940476190476193%\n"
          ]
        }
      ],
      "source": [
        "survi = (df[df['Fare']< 10]['Survived'].mean()) * 100\n",
        "print(f\"4. Percentage of passengers who paid less than 10 dollars and survived: {survi}%\")"
      ]
    },
    {
      "cell_type": "code",
      "execution_count": null,
      "id": "561661a2",
      "metadata": {
        "id": "561661a2",
        "outputId": "b5cb6b2a-3968-40f6-9613-056c24ae8bc2"
      },
      "outputs": [
        {
          "name": "stdout",
          "output_type": "stream",
          "text": [
            "5. The average age of those who didn't survive is: 30.62617924528302\n"
          ]
        }
      ],
      "source": [
        "avgded = df[df['Survived'] == 0]['Age'].mean()\n",
        "print(f\"5. The average age of those who didn't survive is: {avgded}\")"
      ]
    },
    {
      "cell_type": "code",
      "execution_count": null,
      "id": "4cbf1dd8",
      "metadata": {
        "id": "4cbf1dd8",
        "outputId": "6c3da1e3-82d3-4a8f-fc48-74e433b54a82"
      },
      "outputs": [
        {
          "name": "stdout",
          "output_type": "stream",
          "text": [
            "6. The average age of those who survived is: 28.343689655172415\n"
          ]
        }
      ],
      "source": [
        "avgalv = df[df['Survived'] == 1]['Age'].mean()\n",
        "print(f\"6. The average age of those who survived is: {avgalv}\")"
      ]
    },
    {
      "cell_type": "code",
      "execution_count": null,
      "id": "aedf8d5c",
      "metadata": {
        "id": "aedf8d5c",
        "outputId": "bf75afed-ecff-4727-ed46-add6c89c1532"
      },
      "outputs": [
        {
          "name": "stdout",
          "output_type": "stream",
          "text": [
            "7. The average age of those who did and didn't survive grouped by sex is:\n",
            "Survived  Sex   \n",
            "0         female    25.046875\n",
            "          male      31.618056\n",
            "1         female    28.847716\n",
            "          male      27.276022\n",
            "Name: Age, dtype: float64\n"
          ]
        }
      ],
      "source": [
        "avgsex = df.groupby(['Survived','Sex'])['Age'].mean()\n",
        "print(f\"7. The average age of those who did and didn't survive grouped by sex is:\")\n",
        "print(avgsex)"
      ]
    },
    {
      "cell_type": "code",
      "execution_count": null,
      "id": "0f6fd2fc",
      "metadata": {
        "id": "0f6fd2fc"
      },
      "outputs": [],
      "source": []
    }
  ],
  "metadata": {
    "kernelspec": {
      "display_name": "Python 3 (ipykernel)",
      "language": "python",
      "name": "python3"
    },
    "language_info": {
      "codemirror_mode": {
        "name": "ipython",
        "version": 3
      },
      "file_extension": ".py",
      "mimetype": "text/x-python",
      "name": "python",
      "nbconvert_exporter": "python",
      "pygments_lexer": "ipython3",
      "version": "3.10.9"
    },
    "colab": {
      "provenance": [],
      "include_colab_link": true
    }
  },
  "nbformat": 4,
  "nbformat_minor": 5
}